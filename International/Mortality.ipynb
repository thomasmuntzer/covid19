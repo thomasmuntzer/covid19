{
 "cells": [
  {
   "cell_type": "code",
   "execution_count": null,
   "metadata": {},
   "outputs": [],
   "source": [
    "import pandas as pd\n",
    "import numpy as np\n",
    "import matplotlib.pyplot as plt\n",
    "import warnings\n",
    "warnings.simplefilter(action='ignore', category=FutureWarning)\n",
    "\n",
    "pd.set_option('display.max_rows', 500)\n",
    "import os\n",
    "plots_folder = \"./plots/mortality\"\n",
    "os.system(f\"mkdir -p {plots_folder}\")\n",
    "\n",
    "\n",
    "df_mor=pd.read_csv(\"https://raw.githubusercontent.com/akarlinsky/world_mortality/main/world_mortality.csv\")\n",
    "df_mor[\"country_name\"] = df_mor[\"country_name\"].apply(lambda x: \"Bosnia and Herzegovina\" if x == \"Bosnia\" else x)\n",
    "df_mor[\"country_name\"] = df_mor[\"country_name\"].apply(lambda x: \"Czech Republic\" if x == \"Czechia\" else x)\n",
    "df_mor[\"country_name\"] = df_mor[\"country_name\"].apply(lambda x: \"Macau\" if x == \"Macao\" else x)\n",
    "df_mor[\"country_name\"] = df_mor[\"country_name\"].apply(lambda x: \"Reunion\" if x == \"Réunion\" else x)"
   ]
  },
  {
   "cell_type": "code",
   "execution_count": null,
   "metadata": {},
   "outputs": [],
   "source": [
    "df_mor.country_name.unique()"
   ]
  },
  {
   "cell_type": "code",
   "execution_count": null,
   "metadata": {},
   "outputs": [],
   "source": [
    "df_mor_baseline = df_mor[df_mor.year < 2020]\n",
    "df_mor_baseline = df_mor_baseline.groupby([\"country_name\",\"time\"]).agg(\n",
    "    mean_deaths=(\"deaths\", \"mean\"),\n",
    "    std_deaths=(\"deaths\", \"std\"),\n",
    "    var_deaths=(\"deaths\", \"var\"),\n",
    ").reset_index()"
   ]
  },
  {
   "cell_type": "code",
   "execution_count": null,
   "metadata": {},
   "outputs": [],
   "source": [
    "df_mor_baseline"
   ]
  },
  {
   "cell_type": "code",
   "execution_count": null,
   "metadata": {},
   "outputs": [],
   "source": [
    "df_mor = df_mor.merge(df_mor_baseline, on=[\"country_name\",\"time\"],how=\"left\")\n",
    "df_mor[\"excess_deaths\"] = df_mor[\"deaths\"] - df_mor[\"mean_deaths\"]\n",
    "df_mor[\"excess_deaths_hi\"] = df_mor[\"deaths\"] - (df_mor[\"mean_deaths\"] - 1.645 * df_mor[\"std_deaths\"])\n",
    "df_mor[\"excess_deaths_lo\"] = df_mor[\"deaths\"] - (df_mor[\"mean_deaths\"] + 1.645 * df_mor[\"std_deaths\"])\n",
    "df_mor[\"cumulative_excess_deaths\"] = df_mor.groupby(['country_name','year'])['excess_deaths'].apply(lambda x: x.cumsum())\n",
    "df_mor[\"std_cumulative_excess_deaths\"] = df_mor.groupby(['country_name','year'])['var_deaths'].apply(lambda x: np.sqrt(x.cumsum()))\n",
    "df_mor[\"cumulative_excess_deaths_hi\"] = df_mor[\"cumulative_excess_deaths\"] + 1.645 * df_mor[\"std_cumulative_excess_deaths\"]\n",
    "df_mor[\"cumulative_excess_deaths_lo\"] = df_mor[\"cumulative_excess_deaths\"] - 1.645 * df_mor[\"std_cumulative_excess_deaths\"]\n"
   ]
  },
  {
   "cell_type": "code",
   "execution_count": null,
   "metadata": {},
   "outputs": [],
   "source": [
    "df_mor[[\"cumulative_excess_deaths\",\"excess_deaths\",\"var_deaths\",\"std_cumulative_excess_deaths\"]]"
   ]
  },
  {
   "cell_type": "code",
   "execution_count": null,
   "metadata": {},
   "outputs": [],
   "source": [
    "colors = plt.rcParams['axes.prop_cycle'].by_key()['color']\n",
    "colors"
   ]
  },
  {
   "cell_type": "code",
   "execution_count": null,
   "metadata": {},
   "outputs": [],
   "source": [
    "def plot_mortality(varname: str, country: str):\n",
    "   \n",
    "    plt.figure(figsize=(10,5),dpi=100)\n",
    "    \n",
    "    years = df_mor[df_mor.country_name==country][\"year\"].unique()\n",
    "    years = [y for y in years if y >= 2020]\n",
    "    i = 0\n",
    "    for year in years:\n",
    "        df_plt = df_mor[(df_mor.year==year) & (df_mor.country_name==country)]\n",
    "        if len(df_plt.index) == 0:\n",
    "            raise ValueError(f\"Wrong country name: {country}\")\n",
    "        x_max = 55\n",
    "        interval = 2\n",
    "        if df_plt.time_unit.unique() == \"monthly\":\n",
    "            x_max = 13\n",
    "            interval = 1\n",
    "        plt.plot(df_plt.time, df_plt[varname], label=year, linewidth=1.8)\n",
    "        if varname != \"deaths\":\n",
    "            plt.fill_between(df_plt.time, \n",
    "                             df_plt[varname+\"_lo\"], \n",
    "                             df_plt[varname+\"_hi\"],\n",
    "                             alpha=0.1,\n",
    "                             color=colors[i])\n",
    "        i+=1\n",
    "    df_base = df_mor_baseline[df_mor_baseline.country_name==country]\n",
    "    if varname == \"deaths\":\n",
    "        plt.plot(df_base.time, df_base.mean_deaths, label=\"baseline\", \n",
    "             linewidth=1.8, color=\"black\",linestyle=\"dashed\")\n",
    "        plt.fill_between(df_base.time, \n",
    "                         df_base.mean_deaths - 1.645*df_base.std_deaths, \n",
    "                         df_base.mean_deaths + 1.645*df_base.std_deaths,\n",
    "                         alpha=0.1,\n",
    "                         color=\"black\"\n",
    "                        )\n",
    "    else:\n",
    "        plt.axhline(y=0, color='black', linestyle='dashed',linewidth=1.8)\n",
    "    plt.grid()\n",
    "    plt.legend()\n",
    "    label = \"Week of the year\"\n",
    "    if x_max < 50:\n",
    "        label = \"Month of the year\"\n",
    "    plt.xlabel(label, fontsize=12)\n",
    "    plt.title(f\"{country} {varname}\".replace(\"_\",\" \"), fontsize=15)\n",
    "    plt.ylabel(\"N. deaths\", fontsize=12)\n",
    "    plt.xticks(np.arange(0, x_max ,interval))\n",
    "    plt.savefig(f\"{plots_folder}/{country}_{varname}.png\", bbox_inches=\"tight\", facecolor=\"w\")"
   ]
  },
  {
   "cell_type": "code",
   "execution_count": null,
   "metadata": {},
   "outputs": [],
   "source": [
    "countries = [\"Israel\", \"Netherlands\", \"South Korea\", \"Italy\", \"United States\", \"Denmark\", \"Singapore\"]"
   ]
  },
  {
   "cell_type": "code",
   "execution_count": null,
   "metadata": {
    "scrolled": false
   },
   "outputs": [],
   "source": [
    "for country in sorted(countries):\n",
    "    for varname in [\"deaths\", \"excess_deaths\", \"cumulative_excess_deaths\"]:\n",
    "        plot_mortality(varname=varname, country=country)"
   ]
  },
  {
   "cell_type": "code",
   "execution_count": null,
   "metadata": {},
   "outputs": [],
   "source": [
    "plot_mortality(varname=\"deaths\",\n",
    "               country=\"Japan\")"
   ]
  },
  {
   "cell_type": "code",
   "execution_count": null,
   "metadata": {},
   "outputs": [],
   "source": [
    "plot_mortality(varname=\"cumulative_excess_deaths\",\n",
    "               country=\"Albania\")"
   ]
  },
  {
   "cell_type": "markdown",
   "metadata": {},
   "source": [
    "### Population"
   ]
  },
  {
   "cell_type": "code",
   "execution_count": null,
   "metadata": {},
   "outputs": [],
   "source": [
    "df_pop = pd.read_csv(\"./data/population-by-country.csv\")\n",
    "df_pop = df_pop.rename(columns={\"name\":\"country_name\"})[[\"country_name\", \"pop2020\"]]"
   ]
  },
  {
   "cell_type": "code",
   "execution_count": null,
   "metadata": {},
   "outputs": [],
   "source": [
    "df_mor = df_mor.merge(df_pop, on=\"country_name\", how=\"left\")\n",
    "df_mor[\"cumulative_excess_deaths_pop\"] = df_mor[\"cumulative_excess_deaths\"]/(1000*df_mor[\"pop2020\"])"
   ]
  },
  {
   "cell_type": "code",
   "execution_count": null,
   "metadata": {},
   "outputs": [],
   "source": [
    "df_mor"
   ]
  },
  {
   "cell_type": "code",
   "execution_count": null,
   "metadata": {},
   "outputs": [],
   "source": [
    "df_mor[df_mor.country_name==\"Italy\"][[\"year\",\"time\",\"country_name\",\"cumulative_excess_deaths_pop\"]]"
   ]
  },
  {
   "cell_type": "code",
   "execution_count": null,
   "metadata": {},
   "outputs": [],
   "source": [
    "sorted(df_pop.name.unique())"
   ]
  },
  {
   "cell_type": "code",
   "execution_count": null,
   "metadata": {},
   "outputs": [],
   "source": []
  }
 ],
 "metadata": {
  "kernelspec": {
   "display_name": "Python 3 (ipykernel)",
   "language": "python",
   "name": "python3"
  },
  "language_info": {
   "codemirror_mode": {
    "name": "ipython",
    "version": 3
   },
   "file_extension": ".py",
   "mimetype": "text/x-python",
   "name": "python",
   "nbconvert_exporter": "python",
   "pygments_lexer": "ipython3",
   "version": "3.8.10"
  }
 },
 "nbformat": 4,
 "nbformat_minor": 2
}
