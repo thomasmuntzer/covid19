{
 "cells": [
  {
   "cell_type": "code",
   "execution_count": null,
   "metadata": {},
   "outputs": [],
   "source": [
    "import pandas as pd\n",
    "import numpy as np\n",
    "from datetime import datetime\n",
    "from datetime import timedelta\n",
    "\n",
    "pd.set_option('display.max_rows', 1000)\n",
    "\n",
    "from datetime import datetime\n",
    "import sys\n",
    "sys.path.append(\"../\")\n",
    "from utils import createXYPlot\n",
    "from utils import getVariables\n",
    "\n",
    "import matplotlib.pyplot as plt\n",
    "\n",
    "import warnings\n",
    "warnings.simplefilter(action='ignore', category=FutureWarning)\n",
    "\n",
    "#from sklearn.metrics import mean_squared_error, mean_absolute_error\n",
    "\n",
    "colors = plt.rcParams['axes.prop_cycle'].by_key()['color']"
   ]
  },
  {
   "cell_type": "markdown",
   "metadata": {},
   "source": [
    "### Get data"
   ]
  },
  {
   "cell_type": "code",
   "execution_count": null,
   "metadata": {},
   "outputs": [],
   "source": [
    "path = \"https://raw.githubusercontent.com/pcm-dpc/COVID-19/master/dati-andamento-nazionale/dpc-covid19-ita-andamento-nazionale.csv\"\n",
    "df = pd.read_csv(path)"
   ]
  },
  {
   "cell_type": "code",
   "execution_count": null,
   "metadata": {},
   "outputs": [],
   "source": [
    "df.columns"
   ]
  },
  {
   "cell_type": "code",
   "execution_count": null,
   "metadata": {},
   "outputs": [],
   "source": [
    "df[[\"data\",\"casi_da_sospetto_diagnostico\"]].head(1)"
   ]
  },
  {
   "cell_type": "markdown",
   "metadata": {},
   "source": [
    "### Funzioni"
   ]
  },
  {
   "cell_type": "code",
   "execution_count": null,
   "metadata": {},
   "outputs": [],
   "source": [
    "import matplotlib.pyplot as plt\n",
    "import matplotlib as mpl\n",
    "%matplotlib inline\n",
    "\n",
    "from matplotlib.dates import MO, TU, WE, TH, FR, SA, SU\n",
    "    \n",
    "# tick on mondays every week\n",
    "import matplotlib.dates as mdates\n",
    "import matplotlib.cbook as cbook\n",
    "\n",
    "    \n",
    "def createBarPlot(dfplot,y,x=\"giorno\",\n",
    "                  yerr=None, \n",
    "                  title_suffix=\"\", \n",
    "                  logscale=False, figwidth=10):\n",
    "\n",
    "    fig, ax = plt.subplots(figsize=(figwidth,6))\n",
    "\n",
    "    plt.bar(dfplot[x], dfplot[y],yerr=yerr)\n",
    "    plt.grid()\n",
    "    plt.title(f\"{y} {title_suffix}\",fontsize=16)\n",
    "    plt.xticks(fontsize=14,\n",
    "               rotation=50, \n",
    "               rotation_mode=\"anchor\", \n",
    "               verticalalignment = \"top\",\n",
    "               horizontalalignment = \"right\"\n",
    "              )\n",
    "    plt.yticks(fontsize=14)\n",
    "    if logscale: plt.yscale(\"log\")\n",
    "    plt.show()\n",
    "    plt.close()\n",
    "    \n",
    "    \n",
    "def multiple_plot(df, yname, brkdwn, xname = \"giorno\", lista_nomi = [\"Lombardia\",\"Piemonte\"], title_suffix = \"\",\n",
    "                  limit_x=None, limit_y=None):\n",
    "    \n",
    "    fig, ax = plt.subplots(figsize=(12,8))\n",
    "\n",
    "    years = mdates.YearLocator()    # every year\n",
    "    months = mdates.MonthLocator()  # every month\n",
    "    weekdays = mdates.WeekdayLocator(byweekday=MO)\n",
    "    days = mdates.DayLocator()\n",
    "    years_fmt = mdates.DateFormatter('%Y-%m-%d')\n",
    "\n",
    "\n",
    "    # format the ticks\n",
    "    ax.xaxis.set_major_locator(weekdays)\n",
    "    ax.xaxis.set_major_formatter(years_fmt)\n",
    "    ax.xaxis.set_minor_locator(days)\n",
    "\n",
    "    for nome in lista_nomi:\n",
    "        dfp = df[df[brkdwn]==nome]\n",
    "        plt.plot(dfp[xname],dfp[yname],\"-o\",label=nome)\n",
    "\n",
    "    #print(dfp.reset_index()[0])\n",
    "    #plt.plot(dfp['giorno'],dfp[\"expected\"],\"-o\")\n",
    "    \n",
    "    plt.grid(which=\"both\")\n",
    "    fig.autofmt_xdate()\n",
    "    ax.format_xdata = mdates.DateFormatter('%Y-%m-%d')\n",
    "    plt.xticks(fontsize=14)\n",
    "    if limit_x: plt.xlim(limit_x[0],limit_x[1])\n",
    "    if limit_y: plt.ylim(limit_y[0],limit_y[1])\n",
    "    plt.yticks(fontsize=14)\n",
    "    plt.legend(fontsize=12)\n",
    "    plt.title(f\"{yname} per {brkdwn} {title_suffix}\", fontsize=18)\n",
    "\n",
    "    plt.show()\n",
    "    plt.close()\n",
    "    \n",
    "\n",
    "    \n",
    "    \n",
    "def get_provinces_by_regio(regione):\n",
    "    return [ x for x in list(df_prov[df_prov[\"denominazione_regione\"]==regione][\"denominazione_provincia\"].unique()) if \"aggiornamento\" not in x ]\n",
    "\n",
    "\n",
    "\n",
    "def plot_summary(dfplot, suffix):\n",
    "    fig, ax = plt.subplots(figsize=(16,8),dpi=300)\n",
    "\n",
    "    years = mdates.YearLocator()    # every year\n",
    "    months = mdates.MonthLocator()  # every month\n",
    "    weekdays = mdates.WeekdayLocator(byweekday=MO)\n",
    "    days = mdates.DayLocator()\n",
    "    years_fmt = mdates.DateFormatter('%Y-%m-%d')\n",
    "\n",
    "    WIDTH=0.35\n",
    "    DAY_INTERVAL = 14\n",
    "\n",
    "    df_bar = dfplot.sort_values(by=\"data\",ascending=True).reset_index()\n",
    "    \n",
    "    #print(df_bar.head())\n",
    "    \n",
    "    indexes = np.arange(0,len(df_bar.index),DAY_INTERVAL)\n",
    "    labels = [ str(df_bar[\"giorno\"].tolist()[i]) for i in indexes]\n",
    "\n",
    "    #print(labels)\n",
    "\n",
    "    plt.bar(df_bar.index,df_bar[\"nuovi_positivi\"],label=\"contagiati\",alpha=0.5,width=WIDTH,color=\"red\",align=\"center\")\n",
    "    plt.bar(df_bar.index-WIDTH,df_bar[\"variazione_deceduti\"],label=\"deceduti\",alpha=0.6,width=WIDTH,color=\"black\",align=\"center\")\n",
    "    plt.bar(df_bar.index+WIDTH,df_bar[\"variazione_guariti\"],label=\"guariti\",alpha=0.6,width=WIDTH,color=\"green\",align=\"center\")\n",
    "    plt.plot(df_bar.index,df_bar[\"nuovi_positivi_media_7\"],label=\"contagiati (media mobile)\", linewidth=3,color=\"darkred\")\n",
    "\n",
    "    plt.xticks(indexes,\n",
    "               labels = labels, \n",
    "               fontsize=15, \n",
    "               rotation=50, \n",
    "               rotation_mode=\"anchor\", \n",
    "               verticalalignment = \"top\",\n",
    "               horizontalalignment = \"right\",\n",
    "              )\n",
    "    plt.title(f\"Aggiornamento {suffix}\",fontsize=20)\n",
    "    plt.legend(fontsize=14,loc=\"upper left\")\n",
    "    plt.yticks(fontsize=15)\n",
    "    plt.savefig(f\"./plots/{oggi}/aggiornamento_{suffix}.png\",bbox_inches=\"tight\")\n",
    "    del(fig)"
   ]
  },
  {
   "cell_type": "markdown",
   "metadata": {},
   "source": [
    "### Valori nazionali"
   ]
  },
  {
   "cell_type": "code",
   "execution_count": null,
   "metadata": {},
   "outputs": [],
   "source": [
    "df = getVariables(df)\n",
    "oggi = df[\"giorno\"][0]\n",
    "print(oggi)\n",
    "\n",
    "import subprocess\n",
    "plots_folder = f\"./plots/{oggi}\"\n",
    "print(plots_folder)\n",
    "res = subprocess.run(f\"mkdir -p {plots_folder}\",shell=True, stdout=subprocess.PIPE, stderr=subprocess.PIPE)"
   ]
  },
  {
   "cell_type": "code",
   "execution_count": null,
   "metadata": {},
   "outputs": [],
   "source": [
    "plt.figure(dpi=100)\n",
    "plt.plot(df[\"giorno\"],df[\"frazione_ospedalizzati_media_7\"],label=\"ospedalizzati/positivi\")\n",
    "plt.plot(df[\"giorno\"],df[\"frazione_terapia_intensiva_media_7\"],label=\"terapia intensiva/positivi\")\n",
    "plt.plot(df[\"giorno\"],df[\"frazione_isolamento_domiciliare_media_7\"],label=\"isolamento domiciliare/positivi\")\n",
    "plt.grid()\n",
    "plt.legend()\n",
    "plt.grid()\n",
    "_=plt.yticks([0.005,0.01,0.05,0.1,0.9])"
   ]
  },
  {
   "cell_type": "code",
   "execution_count": null,
   "metadata": {
    "scrolled": true
   },
   "outputs": [],
   "source": [
    "plot_summary(df, suffix=oggi)"
   ]
  },
  {
   "cell_type": "code",
   "execution_count": null,
   "metadata": {},
   "outputs": [],
   "source": [
    "createXYPlot(df,\n",
    "             days_interval = 14,\n",
    "             bar_width=0.75,\n",
    "             dpis=200,\n",
    "             linewidth=1.8,\n",
    "             y=[\"variazione_tamponi\",\n",
    "                \"variazione_tamponi_media_7\",\n",
    "                \"variazione_tamponi_rapidi\",\n",
    "                \"variazione_tamponi_rapidi_media_7\",\n",
    "                \"variazione_tamponi_molecolari\",\n",
    "                \"variazione_tamponi_molecolari_media_7\",\n",
    "               ],\n",
    "             alphas=[0.2,1.0,0.2,1.0,0.2,1.0],\n",
    "             colors=[\"b\",\"b\",\"r\",\"r\",\"g\",\"g\"],\n",
    "             labels=[None,\n",
    "                     \"totale\",\n",
    "                     None,\n",
    "                     \"rapidi\",\n",
    "                     None,\n",
    "                     \"molecolari\"\n",
    "                    ],\n",
    "             x=\"giorno\",\n",
    "             plots_folder=plots_folder,\n",
    "             savename=\"tamponi.png\",\n",
    "             figsize_x=10,\n",
    "             figsize_y=5,\n",
    "             start_date=\"2021-06-01\",\n",
    "             title=\"Tamponi giornalieri\",\n",
    "             yticks=np.arange(0,1.6e6,1e5))"
   ]
  },
  {
   "cell_type": "code",
   "execution_count": null,
   "metadata": {},
   "outputs": [],
   "source": [
    "createXYPlot(df, x=\"giorno\", \n",
    "             y=[\"ti_ratio\",\n",
    "                \"ti_ratio_media_7\"], \n",
    "             plots_folder=plots_folder,\n",
    "             start_date=\"2020-12-01\",\n",
    "             days_interval=14,\n",
    "             linewidth=1.8,\n",
    "             colors=[\"b\",\"b\"],\n",
    "             alphas=[0.2,1],\n",
    "             figsize_x=10,\n",
    "             figsize_y=5,\n",
    "             labels=[None, \"media 7 giorni\"],\n",
    "             title=\"Rapporto ingressi TI / contagi (lag 7)\",\n",
    "             savename=\"ti_ratio\",\n",
    "             yticks=np.arange(0,3.5,0.25),\n",
    "             ytitle=\"[%]\"\n",
    "            )"
   ]
  },
  {
   "cell_type": "code",
   "execution_count": null,
   "metadata": {},
   "outputs": [],
   "source": [
    "createXYPlot(df,\n",
    "             days_interval = 14,\n",
    "             x=\"giorno\",\n",
    "             linewidth=1.8,\n",
    "             dpis=200,\n",
    "             ytitle=\"tasso positivi [%]\",\n",
    "             y=[\n",
    "                \"tasso_positivi_test_rapido\",\n",
    "                \"tasso_positivi_test_rapido_media_7\", \n",
    "               ],\n",
    "             labels=[None,\"media 7 giorni\"],\n",
    "             alphas=[0.25,1],\n",
    "             colors=[\"b\",\"b\"],\n",
    "             plots_folder=plots_folder,\n",
    "             title=\"Incidenza positivi tampone antigenico\",\n",
    "             start_date=\"2021-01-15\",\n",
    "             figsize_x=10,\n",
    "             figsize_y=5,\n",
    "             yticks=np.arange(0.00, 24.0, 2.0),\n",
    "             savename=\"tasso_positivi_tampone_rapido.png\")"
   ]
  },
  {
   "cell_type": "code",
   "execution_count": null,
   "metadata": {},
   "outputs": [],
   "source": [
    "createXYPlot(df,y=[\"tasso_positivi_test_molecolare_media_7\"],\n",
    "             x=\"giorno\",\n",
    "             days_interval=28,\n",
    "             start_date=\"2020-01-01\",\n",
    "             plots_folder=plots_folder,\n",
    "             remove_negative=True,\n",
    "             colors=[\"b\"],\n",
    "             linewidth=1.8,\n",
    "             yticks=np.arange(0,35,5),\n",
    "             title=\"Tasso positività tampone molecolare\",\n",
    "             ytitle=\"[%]\",\n",
    "             figsize_x=10,\n",
    "             figsize_y=5,\n",
    "             savename=\"tasso_positivi_tampone_molecolare.png\",\n",
    "            )"
   ]
  },
  {
   "cell_type": "code",
   "execution_count": null,
   "metadata": {},
   "outputs": [],
   "source": [
    "createXYPlot(df,\n",
    "             days_interval = 14,\n",
    "             x=\"giorno\",\n",
    "             linewidth=1.8,\n",
    "             dpis=100,\n",
    "             ytitle=\"tasso positivi [%]\",\n",
    "             y=[\n",
    "                \"tasso_positivi_test_rapido\",\n",
    "                \"tasso_positivi_test_rapido_media_7\",\n",
    "                \"tasso_positivi_test_molecolare\",\n",
    "                \"tasso_positivi_test_molecolare_media_7\",\n",
    "               ],\n",
    "             colors=[\"b\",\"b\",\"r\",\"r\"],\n",
    "             alphas=[0.25,1,0.25,1],\n",
    "             labels=[None,\"antigenico\",None,\"molecolare\"],\n",
    "             plots_folder=plots_folder,\n",
    "             title=\"Incidenza positivi tampone molecolare / antigenico\",\n",
    "             start_date=\"2021-01-13\",\n",
    "             figsize_x=10,\n",
    "             figsize_y=5,\n",
    "             yticks=np.arange(0,32,2),\n",
    "             savename=\"tasso_positivi.png\")"
   ]
  },
  {
   "cell_type": "code",
   "execution_count": null,
   "metadata": {
    "scrolled": true
   },
   "outputs": [],
   "source": [
    "createXYPlot(df,\n",
    "             days_interval = 14,\n",
    "             x=\"giorno\",\n",
    "             linewidth=1.8,\n",
    "             dpis=100,\n",
    "             y=[\"ingressi_terapia_intensiva\",\n",
    "                \"ingressi_terapia_intensiva_media_7\"\n",
    "               ],\n",
    "             labels=[None,\"media 7 giorni\"],\n",
    "             alphas=[0.2,1],\n",
    "             colors=[\"b\",\"b\"],\n",
    "             plots_folder=plots_folder,\n",
    "             start_date=\"2020-12-10\",\n",
    "             yticks=np.arange(0,340,40),\n",
    "             figsize_x=10,\n",
    "             figsize_y=4,\n",
    "             title=\"Ingressi terapia intensiva\",\n",
    "             savename=\"ingressi_ti\")"
   ]
  },
  {
   "cell_type": "code",
   "execution_count": null,
   "metadata": {},
   "outputs": [],
   "source": [
    "def stakHist(df, var_names, startDate):\n",
    "    \n",
    "    fig, ax = plt.subplots(dpi=200,figsize=(20,8))\n",
    "    dfplot = df[df.giorno >= datetime.strptime(startDate,\"%Y-%m-%d\").date()]\n",
    "    dfplot = dfplot.sort_values(by=\"giorno\",ascending=True).reset_index()\n",
    "    \n",
    "    indexes = np.arange(0,len(dfplot.index),4)\n",
    "    labels = [ str(dfplot[\"giorno\"].tolist()[i]) for i in indexes]\n",
    "    \n",
    "    \n",
    "    for name in var_names.keys():\n",
    "        y = dfplot[name]\n",
    "        if name == \"variazione_deceduti\": y = -y\n",
    "        plt.bar(dfplot.index+var_names[name][0], y, color=var_names[name][1],label=name, alpha=0.6,width=0.3,align=\"center\")\n",
    "    plt.xticks(indexes,\n",
    "               labels,\n",
    "               fontsize=14,\n",
    "               rotation=50, \n",
    "               rotation_mode=\"anchor\", \n",
    "               verticalalignment = \"top\",\n",
    "               horizontalalignment = \"right\"\n",
    "              )\n",
    "    plt.yticks(fontsize=16)\n",
    "    plt.legend(fontsize=16)\n",
    "    plt.title(\"Variazione Terapia intensiva\",fontsize=20)\n",
    "    plt.savefig(f\"./plots/{oggi}/ti_morti_ingressi.png\",bbox_inches=\"tight\")\n",
    "        "
   ]
  },
  {
   "cell_type": "code",
   "execution_count": null,
   "metadata": {
    "scrolled": true
   },
   "outputs": [],
   "source": [
    "stakHist(df,\n",
    "         {\"variazione_terapia_intensiva\":[0,\"blue\"],\n",
    "          \"ingressi_terapia_intensiva\":[0.3,\"red\"],\n",
    "          \"variazione_deceduti\":[-0.3,\"black\"]},\n",
    "         \"2020-12-03\")"
   ]
  },
  {
   "cell_type": "code",
   "execution_count": null,
   "metadata": {},
   "outputs": [],
   "source": [
    "createXYPlot(df,\n",
    "             y=[\"mortalità\"],\n",
    "             x=\"giorno\",\n",
    "             colors=[\"black\"],\n",
    "             days_interval=28,\n",
    "             linewidth=1.8,\n",
    "             dpis=100,\n",
    "             plots_folder=plots_folder,\n",
    "             yticks=np.arange(0.01,0.16,0.01),\n",
    "             title=\"mortalità\")"
   ]
  },
  {
   "cell_type": "code",
   "execution_count": null,
   "metadata": {},
   "outputs": [],
   "source": [
    "createXYPlot(df,\n",
    "             y=[\"variazione_deceduti\",\"variazione_deceduti_media_7\"],\n",
    "             labels=[None,\"media 7 giorni\"],\n",
    "             x=\"giorno\",\n",
    "             ytitle=\"N. deceduti\",\n",
    "             colors=[\"b\",\"b\"],\n",
    "             alphas=[0.2,1],\n",
    "             days_interval = 28,\n",
    "             dpis=100,\n",
    "             plots_folder=plots_folder,\n",
    "             linewidth=1.8,\n",
    "             figsize_x=10,\n",
    "             figsize_y=5,\n",
    "             start_date=\"2020-01-29\",\n",
    "             title=\"Decessi Covid 19\",\n",
    "             savename=\"deceduti\"\n",
    "            )"
   ]
  },
  {
   "cell_type": "code",
   "execution_count": null,
   "metadata": {},
   "outputs": [],
   "source": [
    "createXYPlot(df,\n",
    "             y=[\"terapia_intensiva\"],\n",
    "             labels=[\"terapia intensiva\"],\n",
    "             x=\"giorno\",\n",
    "             ytitle=\"N. terapie intensive\",\n",
    "             colors=[\"b\"],\n",
    "             alphas=[1],\n",
    "             days_interval=14,\n",
    "             dpis=100,\n",
    "             plots_folder=plots_folder,\n",
    "             linewidth=1.8,\n",
    "             figsize_x=10,\n",
    "             figsize_y=5,\n",
    "             start_date=\"2021-01-01\",\n",
    "             title=\"Terapia Intensiva Covid 19\",\n",
    "             savename=\"terapia_intensiva\"\n",
    "            )"
   ]
  },
  {
   "cell_type": "code",
   "execution_count": null,
   "metadata": {},
   "outputs": [],
   "source": [
    "df[\"terapia_intensiva_x10\"] = 10*df[\"terapia_intensiva\"]\n",
    "createXYPlot(df,\n",
    "             y=[\"totale_ospedalizzati\", \"terapia_intensiva_x10\"],\n",
    "             labels=[\"ospedalizzati\", \"terapia intensiva (x10)\"],\n",
    "             x=\"giorno\",\n",
    "             ytitle=\"N. ospedalizzati\",\n",
    "             colors=[\"b\",\"r\"],\n",
    "             alphas=[1,1],\n",
    "             days_interval = 28,\n",
    "             dpis=300,\n",
    "             plots_folder=plots_folder,\n",
    "             linewidth=1.8,\n",
    "             figsize_x=10,\n",
    "             figsize_y=5,\n",
    "             start_date=\"2020-03-01\",\n",
    "             title=\"Ospedalizzazioni Covid 19\",\n",
    "             savename=\"ospedalizzazioni_ti\",\n",
    "             yscale=\"linear\"\n",
    "            )"
   ]
  },
  {
   "cell_type": "code",
   "execution_count": null,
   "metadata": {},
   "outputs": [],
   "source": [
    "createXYPlot(df,\n",
    "             y=[\"variazione_deceduti\",\n",
    "                \"variazione_deceduti_media_7\",\n",
    "                \"ingressi_terapia_intensiva\",\n",
    "                \"ingressi_terapia_intensiva_media_7\",\n",
    "                \"variazione_terapia_intensiva\",\n",
    "                \"variazione_terapia_intensiva_media_7\",\n",
    "               ],\n",
    "             x=\"giorno\",\n",
    "             ytitle=\"\",\n",
    "             alphas=[0.3,1,0.3,1,0.3,1],\n",
    "             colors=[colors[0],colors[0],colors[1],colors[1],colors[3],colors[3]],\n",
    "             labels=[\n",
    "                 None,\"decessi\",\n",
    "                 None,\"ingressi terapia intensiva\",\n",
    "                 None,\"variazione terapia intensiva\"\n",
    "             ],\n",
    "             days_interval = 7,\n",
    "             dpis=500,\n",
    "             plots_folder=plots_folder,\n",
    "             linewidth=1.8,\n",
    "             figsize_x=10,\n",
    "             figsize_y=5,\n",
    "             start_date=\"2021-09-01\",\n",
    "             title=\"Decessi e ingressi TI giornalieri\",\n",
    "             savename=\"deceduti_ingressi_ti.png\")"
   ]
  },
  {
   "cell_type": "code",
   "execution_count": null,
   "metadata": {},
   "outputs": [],
   "source": [
    "createXYPlot(df,\n",
    "             y=[\"nuovi_positivi\",\"nuovi_positivi_media_7\"],\n",
    "             labels=[None,\"media 7 giorni\"],\n",
    "             x=\"giorno\",\n",
    "             ytitle=\"N. nuovi casi\",\n",
    "             alphas=[0.2,1],\n",
    "             colors=[\"b\",\"b\"],\n",
    "             days_interval = 28,\n",
    "             dpis=200,\n",
    "             plots_folder=plots_folder,\n",
    "             linewidth=1.7,\n",
    "             yticks=np.arange(0,230000,15000),\n",
    "             start_date=\"2020-01-01\",\n",
    "             title=\"Nuovi casi covid19\",\n",
    "             savename=\"nuovi_positivi.png\",\n",
    "            )"
   ]
  },
  {
   "cell_type": "code",
   "execution_count": null,
   "metadata": {},
   "outputs": [],
   "source": [
    "z_value = 1.645\n",
    "df1 = (df[[\"data\",\"deceduti\",\"totale_casi\",\"giorno\", \"totale_ospedalizzati\"]]\n",
    "       .groupby(df[\"data\"].dt.strftime(\"%m-%y\"))\n",
    "       .head(1).reset_index().drop(columns=[\"index\"]))\n",
    "\n",
    "\n",
    "df1[\"deceduti_mese\"] = df1[\"deceduti\"] - df1[\"deceduti\"].shift(-1) \n",
    "df1[\"deceduti_mese\"] = df1.deceduti_mese.combine_first(df1.deceduti)  \n",
    "\n",
    "df1[\"casi_mese\"] = df1[\"totale_casi\"] - df1[\"totale_casi\"].shift(-1) \n",
    "df1[\"casi_mese\"] = df1.casi_mese.combine_first(df1.totale_casi)                                     \n",
    "\n",
    "df1[\"letalità_mese\"]=np.round(100*df1[\"deceduti_mese\"]/df1[\"casi_mese\"],2)\n",
    "df1[\"tasso_ospedalizzazione_mese\"]=np.round(100*df1[\"totale_ospedalizzati\"]/df1[\"casi_mese\"],2)\n",
    "\n",
    "df1=df1.sort_values(by=[\"data\"])\n",
    "df1[\"data_plot\"] = df1[\"data\"].dt.strftime(\"%B-%Y\")\n",
    "\n",
    "df1[\"sd_letalità_mese\"] = z_value*np.round(100*np.sqrt(df1[\"letalità_mese\"])/np.sqrt(df1[\"casi_mese\"]),2)\n",
    "df1[\"sd_tasso_ospedalizzazione_mese\"] = z_value*np.round(100*np.sqrt(df1[\"tasso_ospedalizzazione_mese\"])/np.sqrt(df1[\"casi_mese\"]),2)\n",
    "\n",
    "df1[\"letalità_up_err\"] = df1[\"sd_letalità_mese\"]\n",
    "df1[\"letalità_lo_err\"] = np.where(df1['sd_letalità_mese'] > df1['letalità_mese'],df1['letalità_mese'], df1['sd_letalità_mese'])\n",
    "\n",
    "df1[\"tasso_ospedalizzazione_up_err\"] = df1[\"sd_tasso_ospedalizzazione_mese\"]\n",
    "df1[\"tasso_ospedalizzazione_lo_err\"] = np.where(df1['sd_tasso_ospedalizzazione_mese'] > df1['tasso_ospedalizzazione_mese'],df1['tasso_ospedalizzazione_mese'], df1['sd_tasso_ospedalizzazione_mese'])\n",
    "\n",
    "df1[\"year\"] = df1[\"data\"].dt.strftime(\"%Y\")\n",
    "df1[\"month\"] = df1[\"data\"].dt.strftime(\"%B\")\n",
    "df1[\"month_num\"] = df1[\"data\"].dt.strftime(\"%m\").astype(int)\n",
    "\n",
    "\n",
    "\n",
    "df1_2020 = df1[df1.year=='2020'].set_index(\"month_num\")\n",
    "df1_2021 = df1[df1.year=='2021'].set_index(\"month_num\")\n",
    "df1_2020_2021 = df1_2020.join(df1_2021,lsuffix=\"_2020\",rsuffix=\"_2021\",how=\"outer\").reset_index()\n",
    "\n",
    "import calendar\n",
    "month_dict={i:list(calendar.month_name)[i] for i in range(1,13)}\n",
    "print(month_dict)\n",
    "\n",
    "df1_2020_2021[\"month\"]=df1_2020_2021[\"month_num\"].replace(month_dict)"
   ]
  },
  {
   "cell_type": "code",
   "execution_count": null,
   "metadata": {},
   "outputs": [],
   "source": []
  },
  {
   "cell_type": "code",
   "execution_count": null,
   "metadata": {},
   "outputs": [],
   "source": [
    "def get_montly_plot(x):\n",
    "    asymmetric_error = [df1[f\"{x}_lo_err\"],df1[f\"{x}_up_err\"]]\n",
    "\n",
    "    max_val = int(np.max(df1[f\"{x}_mese\"])) + int(np.max(df1[f\"{x}_up_err\"]))\n",
    "    fig,ax=plt.subplots(dpi=200,figsize=(11,5))\n",
    "    plt.bar(df1[\"data_plot\"],df1[f\"{x}_mese\"],alpha=0.8)\n",
    "    plt.errorbar(x=df1[\"data_plot\"],y=df1[f\"{x}_mese\"],\n",
    "             yerr=asymmetric_error,\n",
    "             fmt='o',color=\"black\",lolims=0,\n",
    "            linewidth=0.8,capsize=3,markersize=3)\n",
    "    for i, v in enumerate(df1[f\"{x}_mese\"]):\n",
    "        ax.text(i+0.1, v+0.2, f\"{np.round(v,2)}%\", horizontalalignment=\"left\",rotation=40)\n",
    "    _=plt.yticks(np.arange(0,max_val,5),fontsize=12)\n",
    "    plt.ylabel(f\"{x} [%]\".replace(\"_\",\" \"),fontsize=15)\n",
    "    _=plt.xticks(rotation=60, fontsize=12,\n",
    "             rotation_mode=\"anchor\", \n",
    "           verticalalignment = \"top\",\n",
    "           horizontalalignment = \"right\")\n",
    "    pltpath=f\"./plots/{oggi}/{x}_mese.png\"\n",
    "    plt.title(f\"{x} COVID-19 per mese\".replace(\"_\",\" \"),fontsize=16)\n",
    "    plt.savefig(pltpath,bbox_inches=\"tight\")"
   ]
  },
  {
   "cell_type": "code",
   "execution_count": null,
   "metadata": {},
   "outputs": [],
   "source": [
    "get_montly_plot(x=\"letalità\")"
   ]
  },
  {
   "cell_type": "code",
   "execution_count": null,
   "metadata": {
    "scrolled": true
   },
   "outputs": [],
   "source": [
    "get_montly_plot(x=\"tasso_ospedalizzazione\")"
   ]
  },
  {
   "cell_type": "code",
   "execution_count": null,
   "metadata": {},
   "outputs": [],
   "source": [
    "def get_range(n):\n",
    "    if n % 2 == 0:\n",
    "        r_plus = list(np.arange(n/2+1))\n",
    "        r_plus.remove(0)\n",
    "        r_minus = sorted([-x for x in r_plus])\n",
    "        return r_minus + r_plus\n",
    "    else: \n",
    "        r_plus = list(np.arange(n/2+1))\n",
    "        r_minus = sorted([-x for x in r_plus])\n",
    "        return sorted(list(set(r_minus + r_plus)))"
   ]
  },
  {
   "cell_type": "code",
   "execution_count": null,
   "metadata": {},
   "outputs": [],
   "source": [
    "def make_hist_comp(x):\n",
    "    fig, ax = plt.subplots(figsize=(12,5),dpi=100)\n",
    "    width=0.4\n",
    "    \n",
    "    years = [x.split(\"_\")[1] for x in df1_2020_2021.columns if \"year\" in x]\n",
    "    steps = get_range(len(years))\n",
    "    for i in range(0,len(years)):\n",
    "        asymmetric_error = [df1_2020_2021[f\"{x}_lo_err_{years[i]}\"],df1_2020_2021[f\"{x}_up_err_{years[i]}\"]]\n",
    "        plt.bar(df1_2020_2021.month_num + steps[i]*(width/2), \n",
    "                df1_2020_2021[f\"{x}_mese_{years[i]}\"],\n",
    "                alpha=0.8,align=\"center\",width=width, label=years[i])\n",
    "        plt.errorbar(x=df1_2020_2021.month_num + steps[i]*(width/2),\n",
    "                     y=df1_2020_2021[f\"{x}_mese_{years[i]}\"],\n",
    "                     yerr=asymmetric_error,\n",
    "                     fmt='o',color=\"black\",lolims=0,\n",
    "                     linewidth=0.8,capsize=3,markersize=3)\n",
    "    plt.legend(fontsize=13)\n",
    "    _ = plt.xticks(list(np.arange(1,13,1)),\n",
    "                   rotation=60, fontsize=13,\n",
    "                   rotation_mode=\"anchor\", \n",
    "                   verticalalignment = \"top\",\n",
    "                   horizontalalignment = \"right\")\n",
    "    _ = ax.set_xticklabels(df1_2020_2021.month.values)\n",
    "    _ = plt.yticks(fontsize=13)\n",
    "    plt.title(x.replace(\"_\",\" \"),fontsize=18)\n",
    "    plt.ylabel(\"[%]\",fontsize=14)\n",
    "    plt.grid()\n",
    "    pltpath=f\"./plots/{oggi}/year_comp_{x}.png\"\n",
    "    plt.savefig(pltpath,bbox_inches=\"tight\")"
   ]
  },
  {
   "cell_type": "code",
   "execution_count": null,
   "metadata": {},
   "outputs": [],
   "source": [
    "make_hist_comp(\"letalità\")"
   ]
  },
  {
   "cell_type": "code",
   "execution_count": null,
   "metadata": {},
   "outputs": [],
   "source": [
    "make_hist_comp(\"tasso_ospedalizzazione\")"
   ]
  },
  {
   "cell_type": "markdown",
   "metadata": {},
   "source": [
    "### Confronto anni"
   ]
  },
  {
   "cell_type": "code",
   "execution_count": null,
   "metadata": {},
   "outputs": [],
   "source": [
    "df[\"anno\"] = pd.DatetimeIndex(df['data']).year\n",
    "df[\"giorno\"] = df['data'].dt.dayofyear\n",
    "df[\"settimana\"] = df['data'].dt.weekofyear\n",
    "\n",
    "df_anno = df[[\"data\",\n",
    "              \"anno\",\n",
    "              \"settimana\",\n",
    "              \"giorno\",\n",
    "              \"variazione_deceduti\",\n",
    "              \"terapia_intensiva\",\n",
    "              \"variazione_deceduti_media_7\",\n",
    "              \"totale_ospedalizzati\",\n",
    "              \"variazione_tamponi\",\n",
    "              \"variazione_tamponi_media_7\",\n",
    "              \"nuovi_positivi\",    \n",
    "              \"nuovi_positivi_media_7\",\n",
    "              \"totale_positivi\",\n",
    "              \"tasso_positivi\",\n",
    "              \"tasso_positivi_media_7\"\n",
    "             ]]"
   ]
  },
  {
   "cell_type": "code",
   "execution_count": null,
   "metadata": {},
   "outputs": [],
   "source": [
    "df_dict = {}\n",
    "years = [2020,2021,2022]\n",
    "for year in years:\n",
    "    df_dict[year] = df_anno[df_anno.anno == year].sort_values(by=\"giorno\").reset_index()"
   ]
  },
  {
   "cell_type": "code",
   "execution_count": 43,
   "metadata": {},
   "outputs": [
    {
     "data": {
      "image/png": "[encoded data removed]",
      "text/plain": [
       "<Figure size 1080x480 with 1 Axes>"
      ]
     },
     "metadata": {
      "needs_background": "light"
     },
     "output_type": "display_data"
    }
   ],
   "source": [
    "plt.figure(dpi=120,figsize=(9,4))\n",
    "colors = [\"r\",\"b\",\"g\"]\n",
    "i=0\n",
    "for year in years:\n",
    "    plt.plot(df_dict[year][\"giorno\"],df_dict[year][\"variazione_deceduti\"],alpha=0.3,color=colors[i])\n",
    "    plt.plot(df_dict[year][\"giorno\"],df_dict[year][\"variazione_deceduti_media_7\"],label=year,alpha=1,color=colors[i])\n",
    "    i+=1\n",
    "    \n",
    "plt.title(f\"Decessi COVID Italia {oggi}\",fontsize=14)\n",
    "plt.xlabel(\"Giorno dell'anno\",fontsize=12)\n",
    "plt.ylabel(\"N. Decessi\",fontsize=12)\n",
    "plt.yticks(np.arange(0,1100,100))\n",
    "plt.legend(fontsize=9)\n",
    "plt.savefig(f\"./plots/{oggi}/year_comp_decessi.png\",bbox_inches=\"tight\", facecolor=\"w\")"
   ]
  },
  {
   "cell_type": "code",
   "execution_count": null,
   "metadata": {
    "scrolled": false
   },
   "outputs": [],
   "source": [
    "plt.figure(dpi=100,figsize=(9,4))\n",
    "colors = [\"r\",\"b\",\"g\"]\n",
    "i=0\n",
    "for year in years:\n",
    "    plt.plot(df_dict[year][\"giorno\"], df_dict[year][\"terapia_intensiva\"], alpha=1, color=colors[i], label=year)\n",
    "    i+=1\n",
    "plt.xlabel(\"Giorno dell'anno\",fontsize=12)\n",
    "plt.ylabel(\"N. terapie intensive\",fontsize=12)\n",
    "plt.title(f\"Terapie intensive COVID Italia {oggi}\",fontsize=14)\n",
    "plt.legend()\n",
    "plt.savefig(f\"./plots/{oggi}/year_comp_ti.png\", bbox_inches=\"tight\", facecolor=\"w\")"
   ]
  },
  {
   "cell_type": "code",
   "execution_count": null,
   "metadata": {},
   "outputs": [],
   "source": [
    "plt.figure(dpi=100,figsize=(9,4))\n",
    "colors = [\"r\",\"b\",\"g\"]\n",
    "i=0\n",
    "for year in years:\n",
    "    plt.plot(df_dict[year][\"giorno\"], df_dict[year][\"totale_ospedalizzati\"], alpha=1, color=colors[i], label=year)\n",
    "    i+=1\n",
    "\n",
    "plt.xlabel(\"Giorno dell'anno\",fontsize=12)\n",
    "plt.ylabel(\"N. ospedalizzati\",fontsize=12)\n",
    "plt.title(f\"Ospedalizzati COVID Italia {oggi}\",fontsize=14)\n",
    "plt.legend()\n",
    "plt.savefig(f\"./plots/{oggi}/year_comp_hospit.png\",bbox_inches=\"tight\")"
   ]
  },
  {
   "cell_type": "code",
   "execution_count": null,
   "metadata": {},
   "outputs": [],
   "source": [
    "plt.figure(dpi=100,figsize=(9,4))\n",
    "colors = [\"r\",\"b\",\"g\"]\n",
    "i=0\n",
    "for year in years:\n",
    "    plt.plot(df_dict[year][\"giorno\"], df_dict[year][\"nuovi_positivi\"], alpha=0.2, color=colors[i], label=None)\n",
    "    plt.plot(df_dict[year][\"giorno\"], df_dict[year][\"nuovi_positivi_media_7\"], alpha=1, color=colors[i], label=year)\n",
    "    i+=1\n",
    "plt.xlabel(\"Giorno dell'anno\",fontsize=12)\n",
    "plt.ylabel(\"N. nuovi positivi\",fontsize=12)\n",
    "plt.yticks(np.arange(0,240000,20000))\n",
    "plt.title(f\"Nuovi positivi Covid19, Italia {oggi}\", fontsize=14)\n",
    "plt.legend()\n",
    "plt.savefig(f\"./plots/{oggi}/year_comp_nuovi_positivi.png\", bbox_inches=\"tight\")"
   ]
  },
  {
   "cell_type": "code",
   "execution_count": null,
   "metadata": {},
   "outputs": [],
   "source": [
    "df[df[\"nuovi_positivi\"]==np.max(df[\"nuovi_positivi\"])][[\"giorno\",\"nuovi_positivi\"]]"
   ]
  },
  {
   "cell_type": "markdown",
   "metadata": {},
   "source": [
    "### Rapporto ISS"
   ]
  },
  {
   "cell_type": "code",
   "execution_count": null,
   "metadata": {},
   "outputs": [],
   "source": [
    "df[[\"giorno\",\"nuovi_positivi\"]].head(10)"
   ]
  },
  {
   "cell_type": "code",
   "execution_count": null,
   "metadata": {},
   "outputs": [],
   "source": [
    "df[(df.giorno >= datetime.strptime(\"2021-11-19\",\"%Y-%m-%d\").date()) &\n",
    "   (df.giorno  < datetime.strptime(\"2021-12-19\",\"%Y-%m-%d\").date())\n",
    "  ][[\"giorno\",\"terapia_intensiva\",\"ingressi_terapia_intensiva\"]].agg(avg_terapia=(\"ingressi_terapia_intensiva\",\"sum\"))"
   ]
  },
  {
   "cell_type": "code",
   "execution_count": null,
   "metadata": {},
   "outputs": [],
   "source": [
    "createXYPlot(df,\n",
    "             y=[\"ingressi_terapia_intensiva_30\",\"terapia_intensiva\"],\n",
    "             labels=[\"ingressi ultimi 30gg\",\"attualmente ricoverati\"],\n",
    "             x=\"giorno\",\n",
    "             colors=[\"black\",\"red\"],\n",
    "             days_interval=28,\n",
    "             linewidth=1.8,\n",
    "             dpis=500,\n",
    "             plots_folder=plots_folder,\n",
    "             start_date=\"2020-12-28\",\n",
    "             title=\"Andamento terapie intensive\",\n",
    "             ytitle=\"N. ricoverati\"\n",
    "            )"
   ]
  },
  {
   "cell_type": "code",
   "execution_count": null,
   "metadata": {},
   "outputs": [],
   "source": []
  }
 ],
 "metadata": {
  "kernelspec": {
   "display_name": "Python 3 (ipykernel)",
   "language": "python",
   "name": "python3"
  },
  "language_info": {
   "codemirror_mode": {
    "name": "ipython",
    "version": 3
   },
   "file_extension": ".py",
   "mimetype": "text/x-python",
   "name": "python",
   "nbconvert_exporter": "python",
   "pygments_lexer": "ipython3",
   "version": "3.8.10"
  }
 },
 "nbformat": 4,
 "nbformat_minor": 2
}
