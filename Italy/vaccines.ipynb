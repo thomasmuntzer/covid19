{
 "cells": [
  {
   "cell_type": "code",
   "execution_count": null,
   "metadata": {},
   "outputs": [],
   "source": [
    "import matplotlib.pyplot as plt\n",
    "import subprocess\n",
    "\n",
    "import warnings\n",
    "warnings.simplefilter(action='ignore', category=FutureWarning)\n",
    "\n",
    "import sys\n",
    "sys.path.append(\"../\")\n",
    "from utils import createXYPlot\n",
    "import pandas as pd\n",
    "pd.set_option('display.max_rows', 500)\n",
    "import numpy as np\n",
    "df_vax = pd.read_csv(\"https://raw.githubusercontent.com/italia/covid19-opendata-vaccini/master/dati/somministrazioni-vaccini-latest.csv\")"
   ]
  },
  {
   "cell_type": "code",
   "execution_count": null,
   "metadata": {},
   "outputs": [],
   "source": [
    "df_vax.columns"
   ]
  },
  {
   "cell_type": "code",
   "execution_count": null,
   "metadata": {},
   "outputs": [],
   "source": [
    "df_vax"
   ]
  },
  {
   "cell_type": "code",
   "execution_count": null,
   "metadata": {},
   "outputs": [],
   "source": [
    "fornitori = sorted(df_vax.forn.unique())\n",
    "anagrafiche = sorted(df_vax.eta.unique())"
   ]
  },
  {
   "cell_type": "code",
   "execution_count": null,
   "metadata": {},
   "outputs": [],
   "source": [
    "oggi = np.max(df_vax[\"data\"])\n",
    "plots_folder = f\"./plots/{oggi}/vaccination\"\n",
    "print(plots_folder)\n",
    "res = subprocess.check_output(f\"mkdir -p {plots_folder}\",shell=True)"
   ]
  },
  {
   "cell_type": "code",
   "execution_count": null,
   "metadata": {},
   "outputs": [],
   "source": [
    "def group_by_doses(df, keys, columns):\n",
    "    agg_dict = {c:\"sum\" for c in columns}\n",
    "    df = df.groupby(keys).agg(agg_dict).reset_index()\n",
    "    return df"
   ]
  },
  {
   "cell_type": "code",
   "execution_count": null,
   "metadata": {},
   "outputs": [],
   "source": [
    "def get_grid(keys):\n",
    "    grid = pd.DataFrame()\n",
    "    for f in keys:\n",
    "        new_grid = pd.DataFrame(df_vax[f].unique(), columns=[f])\n",
    "        new_grid['key'] = 0\n",
    "        grid['key'] = 0\n",
    "        grid = grid.merge(new_grid, on='key', how='outer')\n",
    "    grid = grid.sort_values(by=keys).reset_index(drop=True)\n",
    "    return grid.drop([\"key\"],axis=1)"
   ]
  },
  {
   "cell_type": "code",
   "execution_count": null,
   "metadata": {},
   "outputs": [],
   "source": [
    "def roll_mean(df, key=None):\n",
    "    df = df.set_index(\"data\")\n",
    "    col_names = [c for c in df.columns if \"dose\" in c]\n",
    "    print(col_names)\n",
    "    for cname in col_names:\n",
    "        if key is not None:\n",
    "            df_roll = pd.DataFrame(df.groupby(key)[cname].rolling(7).mean())\n",
    "            df_roll = df_roll.rename(columns={cname: f\"{cname}_media_7\"})\n",
    "            for k in key:\n",
    "                df = df.set_index(k, append=True)\n",
    "            df = df.join(df_roll).reset_index().set_index(\"data_somministrazione\")\n",
    "        else:\n",
    "            df[f\"{cname}_media_7\"] = df[cname].rolling(7).mean()\n",
    "    \n",
    "    return df.reset_index()"
   ]
  },
  {
   "cell_type": "code",
   "execution_count": null,
   "metadata": {},
   "outputs": [],
   "source": [
    "df_vax[\"quarta_dose\"] = df_vax[\"booster_immuno\"] + df_vax[\"d2_booster\"]\n",
    "df_vax[\"terza_dose\"] = df_vax[\"dose_addizionale_booster\"]\n",
    "df_vax[\"prima_dose_no_guariti\"] = df_vax[\"prima_dose\"]\n",
    "df_vax[\"prima_dose\"] = df_vax[\"prima_dose\"] + df_vax[\"pregressa_infezione\"]"
   ]
  },
  {
   "cell_type": "code",
   "execution_count": null,
   "metadata": {},
   "outputs": [],
   "source": [
    "cols_to_sum = [\"prima_dose\", \"seconda_dose\", \"terza_dose\", \"quarta_dose\", \"pregressa_infezione\", \"prima_dose_no_guariti\"]\n",
    "df_vax_yyyy_mm_dd = group_by_doses(df_vax, keys=[\"data_somministrazione\"], columns=cols_to_sum)\n",
    "df_vax_yyyy_mm_dd_fornitore = group_by_doses(df_vax, keys=[\"data_somministrazione\", \"fornitore\"], columns=cols_to_sum)\n",
    "df_vax_yyyy_mm_dd_anag = group_by_doses(df_vax, keys=[\"data_somministrazione\", \"fascia_anagrafica\"], columns=cols_to_sum)\n",
    "df_vax_yyyy_mm_dd_anag_fornitore = group_by_doses(df_vax, keys=[\"data_somministrazione\", \"fascia_anagrafica\", \"fornitore\"], columns=cols_to_sum)"
   ]
  },
  {
   "cell_type": "code",
   "execution_count": null,
   "metadata": {},
   "outputs": [],
   "source": [
    "pd.DataFrame(df_vax_yyyy_mm_dd[[\"prima_dose\",\n",
    "                                \"seconda_dose\",\n",
    "                                \"terza_dose\",\n",
    "                                \"quarta_dose\",\n",
    "                                \"pregressa_infezione\",\n",
    "                                \"prima_dose_no_guariti\"\n",
    "                               ]].agg(sum),columns=[\"totale\"])"
   ]
  },
  {
   "cell_type": "code",
   "execution_count": null,
   "metadata": {},
   "outputs": [],
   "source": [
    "df_vax_yyyy_mm_dd_pediatrico=df_vax_yyyy_mm_dd_fornitore[df_vax_yyyy_mm_dd_fornitore.fornitore==\"Pfizer Pediatrico\"].drop(columns=\"fornitore\")\n",
    "df_vax_yyyy_mm_dd = df_vax_yyyy_mm_dd.merge(df_vax_yyyy_mm_dd_pediatrico, on=\"data_somministrazione\", how=\"left\", suffixes=(\"\",\"_pediatrico\"))\n",
    "for n_dos in [\"prima\", \"seconda\", \"terza\", \"quarta\"]:\n",
    "    df_vax_yyyy_mm_dd[f\"{n_dos}_dose_adulti\"] = df_vax_yyyy_mm_dd[f\"{n_dos}_dose\"] - df_vax_yyyy_mm_dd[f\"{n_dos}_dose_pediatrico\"]\n",
    "    df_vax_yyyy_mm_dd[f\"{n_dos}_dose_adulti\"] = df_vax_yyyy_mm_dd[f\"{n_dos}_dose_adulti\"].combine_first(df_vax_yyyy_mm_dd[f\"{n_dos}_dose\"])\n",
    "    \n",
    "    \n",
    "    "
   ]
  },
  {
   "cell_type": "code",
   "execution_count": null,
   "metadata": {},
   "outputs": [],
   "source": [
    "df_vax_yyyy_mm_dd = roll_mean(df_vax_yyyy_mm_dd)\n",
    "df_vax_yyyy_mm_dd_fornitore = roll_mean(df_vax_yyyy_mm_dd_fornitore,key=[\"fornitore\"])\n",
    "df_vax_yyyy_mm_dd_anag_fornitore = roll_mean(df_vax_yyyy_mm_dd_anag_fornitore,key=[\"fornitore\",\"fascia_anagrafica\"])\n",
    "df_vax_yyyy_mm_dd_anag = roll_mean(df_vax_yyyy_mm_dd_anag, key=[\"fascia_anagrafica\"])"
   ]
  },
  {
   "cell_type": "code",
   "execution_count": null,
   "metadata": {},
   "outputs": [],
   "source": [
    "fornitori = df_vax_yyyy_mm_dd_fornitore[\"fornitore\"].unique()"
   ]
  },
  {
   "cell_type": "code",
   "execution_count": null,
   "metadata": {
    "scrolled": false
   },
   "outputs": [],
   "source": [
    "for fornitore in fornitori:\n",
    "    savename_suffix=\"_\"+fornitore.replace(\"/\",\"_\")\n",
    "    df_plot = df_vax_yyyy_mm_dd_fornitore[df_vax_yyyy_mm_dd_fornitore.fornitore==fornitore]\n",
    "    df_plot = df_plot.sort_values(by=\"data_somministrazione\")\n",
    "    df_plot[\"prima_dose_media_7\"] = df_plot[\"prima_dose\"].rolling(7).mean()\n",
    "    df_plot[\"seconda_dose_media_7\"] = df_plot[\"seconda_dose\"].rolling(7).mean()\n",
    "    df_plot[\"terza_dose_media_7\"] = df_plot[\"terza_dose\"].rolling(7).mean()\n",
    "    createXYPlot(df_plot, \n",
    "                 y=[\"prima_dose_media_7\",\"seconda_dose_media_7\",\"terza_dose_media_7\", \"quarta_dose_media_7\"], \n",
    "                 x=\"data_somministrazione\", \n",
    "                 days_interval=14,\n",
    "                 linewidth=2,\n",
    "                 figsize_x=10,\n",
    "                 figsize_y=5,\n",
    "                 title=f\"dosi somministrate {fornitore} {oggi}\",\n",
    "                 plots_folder=plots_folder,\n",
    "                 savename=f\"dosi_somministrate{savename_suffix}.png\")"
   ]
  },
  {
   "cell_type": "code",
   "execution_count": null,
   "metadata": {},
   "outputs": [],
   "source": [
    "COLORS = plt.rcParams['axes.prop_cycle'].by_key()['color']"
   ]
  },
  {
   "cell_type": "code",
   "execution_count": null,
   "metadata": {},
   "outputs": [],
   "source": [
    "np.sum(df_vax_yyyy_mm_dd[df_vax_yyyy_mm_dd.data_somministrazione>\"2021-12-26\"][[\"prima_dose_adulti\"]])"
   ]
  },
  {
   "cell_type": "code",
   "execution_count": null,
   "metadata": {},
   "outputs": [],
   "source": [
    "cond = (df_vax_yyyy_mm_dd_anag.data_somministrazione>\"2021-12-26\") & (df_vax_yyyy_mm_dd_anag.fascia_anagrafica.isin([\"50-59\",\"60-69\",\"70-79\",\"80-89\",\"90+\"])) \n",
    "    \n",
    "display(df_vax_yyyy_mm_dd_anag[cond][[\"data_somministrazione\",\"fascia_anagrafica\",\"prima_dose\"]])\n",
    "\n",
    "np.sum(df_vax_yyyy_mm_dd_anag[cond][[\"prima_dose\"]])"
   ]
  },
  {
   "cell_type": "code",
   "execution_count": null,
   "metadata": {
    "scrolled": false
   },
   "outputs": [],
   "source": [
    "i = 0\n",
    "for dose in [\"prima\",\"seconda\",\"terza\",\"quarta\"]:\n",
    "    y_tot = df_vax_yyyy_mm_dd[f\"{dose}_dose_media_7\"].dropna()\n",
    "    y_adu = df_vax_yyyy_mm_dd[f\"{dose}_dose_adulti_media_7\"].dropna()\n",
    "        \n",
    "    if all(y_tot == y_adu):\n",
    "        print(dose)\n",
    "        y_vars = [f\"{dose}_dose_media_7\"]\n",
    "        labels = None\n",
    "        linestyles = None\n",
    "        colors = [COLORS[i]]\n",
    "    else:\n",
    "        y_vars = [f\"{dose}_dose_media_7\", f\"{dose}_dose_adulti_media_7\"]\n",
    "        labels = [\"Totale\", \"Adulti\"]\n",
    "        linestyles = [\"-\", \"--\"]\n",
    "        colors = [COLORS[i], COLORS[i]]\n",
    "        \n",
    "    createXYPlot(df_vax_yyyy_mm_dd, \n",
    "                 y=y_vars,\n",
    "                 labels=labels,\n",
    "                 linestyles=linestyles,\n",
    "                 colors=colors,\n",
    "                 x=\"data_somministrazione\", \n",
    "                 days_interval=14,\n",
    "                 linewidth=2,\n",
    "                 start_date=\"2022-03-01\",\n",
    "                 title=f\"{dose[:-1]+'e'} dosi somministrate (media 7 giorni)\",\n",
    "                 plots_folder=plots_folder,\n",
    "                 savename=f\"{dose[:-1]+'e'}_dosi_somministrate.png\"\n",
    "                )\n",
    "    i +=1"
   ]
  },
  {
   "cell_type": "code",
   "execution_count": null,
   "metadata": {},
   "outputs": [],
   "source": [
    "createXYPlot(df_vax_yyyy_mm_dd, \n",
    "                 y=[\"prima_dose\",\n",
    "                    \"prima_dose_media_7\",\n",
    "                    \"seconda_dose\",\n",
    "                    \"seconda_dose_media_7\",\n",
    "                    \"terza_dose\",\n",
    "                    \"terza_dose_media_7\",\n",
    "                    \"quarta_dose\",\n",
    "                    \"quarta_dose_media_7\"\n",
    "                   ], \n",
    "                 labels=[None,\n",
    "                         \"prima dose\",\n",
    "                         None,\n",
    "                         \"seconda dose\",\n",
    "                         None,\n",
    "                         \"terza dose\",\n",
    "                         None,\n",
    "                         \"quarta_dose\"\n",
    "                        ],\n",
    "                 alphas=[0.2,1,0.2,1,0.2,1,0.2,1],\n",
    "                 colors=[COLORS[0],COLORS[0],\n",
    "                         COLORS[1],COLORS[1],\n",
    "                         COLORS[2],COLORS[2],\n",
    "                         COLORS[3],COLORS[3]\n",
    "                        ],\n",
    "                 x=\"data_somministrazione\", \n",
    "                 days_interval=7,\n",
    "                 linewidth=2,\n",
    "                 title=f\"Media settimanale dosi somministrate {oggi}\",\n",
    "                 plots_folder=plots_folder,\n",
    "                 yticks=range(0,40000,5000),\n",
    "                 start_date=\"2022-04-01\",\n",
    "                 savename=f\"dosi_somministrate_media7\")"
   ]
  },
  {
   "cell_type": "code",
   "execution_count": null,
   "metadata": {},
   "outputs": [],
   "source": [
    "for c in [\"prima\", \"seconda\", \"terza\", \"quarta\"]:\n",
    "    df_vax_yyyy_mm_dd[f\"totale_{c}_dose\"] = df_vax_yyyy_mm_dd[f\"{c}_dose\"].cumsum()\n",
    "\n",
    "\n",
    "df_vax_yyyy_mm_dd[\"totale_prima_dose_no_guariti\"] = df_vax_yyyy_mm_dd[\"prima_dose_no_guariti\"].cumsum()\n",
    "df_vax_yyyy_mm_dd[\"totale_pregressa_infezione\"] = df_vax_yyyy_mm_dd[\"pregressa_infezione\"].cumsum()"
   ]
  },
  {
   "cell_type": "code",
   "execution_count": null,
   "metadata": {},
   "outputs": [],
   "source": [
    "df_vax_yyyy_mm_dd_fornitore[\"totale_prima_dose\"] = df_vax_yyyy_mm_dd_fornitore.groupby(\"fornitore\")[\"prima_dose\"].cumsum()\n",
    "df_vax_yyyy_mm_dd_fornitore[\"totale_seconda_dose\"] = df_vax_yyyy_mm_dd_fornitore.groupby(\"fornitore\")[\"seconda_dose\"].cumsum()\n",
    "df_vax_yyyy_mm_dd_fornitore[\"totale_terza_dose\"] = df_vax_yyyy_mm_dd_fornitore.groupby(\"fornitore\")[\"terza_dose\"].cumsum()\n",
    "df_vax_yyyy_mm_dd_fornitore[\"totale_quarta_dose\"] = df_vax_yyyy_mm_dd_fornitore.groupby(\"fornitore\")[\"quarta_dose\"].cumsum()\n"
   ]
  },
  {
   "cell_type": "code",
   "execution_count": null,
   "metadata": {},
   "outputs": [],
   "source": [
    "df_vax_yyyy_mm_dd[[\"data_somministrazione\",\"prima_dose\",\"prima_dose_media_7\",\"seconda_dose_media_7\", \"terza_dose_media_7\",\"quarta_dose_media_7\"]].tail(10)"
   ]
  },
  {
   "cell_type": "code",
   "execution_count": null,
   "metadata": {},
   "outputs": [],
   "source": [
    "createXYPlot(df_vax_yyyy_mm_dd, \n",
    "             y=[\"totale_prima_dose\",\n",
    "                \"totale_prima_dose_no_guariti\",\n",
    "                \"totale_seconda_dose\",\n",
    "                \"totale_terza_dose\", \n",
    "                \"totale_quarta_dose\"\n",
    "               ], \n",
    "             labels=[\"prima dose\", \n",
    "                     \"prima dose (no guariti)\",\n",
    "                     \"seconda dose\", \n",
    "                     \"terza dose\", \n",
    "                     \"quarta dose\"\n",
    "                    ],\n",
    "             linestyles=[\"-\",\"--\",\"-\",\"-\",\"-\"],\n",
    "             colors=[COLORS[0],COLORS[0],COLORS[1],COLORS[2],COLORS[3]],\n",
    "             x=\"data_somministrazione\", \n",
    "             days_interval=14,\n",
    "             linewidth=2,\n",
    "             title=f\"dosi somministrate totali {oggi}\",\n",
    "             plots_folder=plots_folder,\n",
    "             savename=f\"dosi_somministrate_cumulativo.png\"\n",
    "            )"
   ]
  },
  {
   "cell_type": "markdown",
   "metadata": {},
   "source": [
    "### Cumulativa per fornitore"
   ]
  },
  {
   "cell_type": "code",
   "execution_count": null,
   "metadata": {},
   "outputs": [],
   "source": [
    "for fornitore in fornitori:\n",
    "    df_plot = df_vax_yyyy_mm_dd_fornitore[df_vax_yyyy_mm_dd_fornitore.fornitore==fornitore]\n",
    "    savename_suffix=\"_\"+fornitore.replace(\"/\",\"_\")    \n",
    "    createXYPlot(df_plot, \n",
    "                 y=[\"totale_prima_dose\",\"totale_seconda_dose\",\"totale_terza_dose\"],\n",
    "                 labels=[\"prime dosi\",\"seconde dosi\", \"terze dosi\"],\n",
    "                 x=\"data_somministrazione\", \n",
    "                 days_interval=14,\n",
    "                 linewidth=2,\n",
    "                 title=f\"dosi somministrate totali {fornitore} {oggi}\",\n",
    "                 plots_folder=plots_folder,\n",
    "                 savename=f\"dosi_somministrate_totali_{savename_suffix}.png\")"
   ]
  },
  {
   "cell_type": "code",
   "execution_count": null,
   "metadata": {},
   "outputs": [],
   "source": [
    "df_vax_yyyy_mm_dd_anag[df_vax_yyyy_mm_dd_anag[\"fascia_anagrafica\"]==\"05-11\"].tail(3)"
   ]
  },
  {
   "cell_type": "code",
   "execution_count": null,
   "metadata": {},
   "outputs": [],
   "source": [
    "for anag in sorted(df_vax_yyyy_mm_dd_anag[\"fascia_anagrafica\"].unique()):\n",
    "    savename_suffix=\"_\" + anag  \n",
    "    df_plot = df_vax_yyyy_mm_dd_anag[df_vax_yyyy_mm_dd_anag.fascia_anagrafica==anag]\n",
    "    df_plot = df_plot.sort_values(by=\"data_somministrazione\")\n",
    "    createXYPlot(df_plot, \n",
    "                 y=[\"prima_dose\", \"prima_dose_media_7\", \"seconda_dose\", \"seconda_dose_media_7\"], \n",
    "                 labels=[None, \"prima dose\", None, \"seconda dose\"],\n",
    "                 colors=[\"b\",\"b\",\"r\",\"r\"],\n",
    "                 alphas=[0.2,1,0.2,1],\n",
    "                 x=\"data_somministrazione\", \n",
    "                 linewidth=2,\n",
    "                 days_interval=7,\n",
    "                 start_date=\"2021-12-01\",\n",
    "                 title=f\"dosi somministrate età: {anag}, data: {oggi}\",\n",
    "                 plots_folder=plots_folder,\n",
    "                 savename=f\"dosi_somministrate{savename_suffix}.png\")\n"
   ]
  },
  {
   "cell_type": "code",
   "execution_count": null,
   "metadata": {},
   "outputs": [],
   "source": [
    "grid = get_grid(keys=[\"data_somministrazione\",\"fascia_anagrafica\"])"
   ]
  },
  {
   "cell_type": "code",
   "execution_count": null,
   "metadata": {},
   "outputs": [],
   "source": [
    "df_vax_yyyy_mm_dd_anag = grid.merge(df_vax_yyyy_mm_dd_anag, on=[\"data_somministrazione\",\"fascia_anagrafica\"], how=\"left\")\n",
    "df_vax_yyyy_mm_dd_anag = df_vax_yyyy_mm_dd_anag.fillna(0)"
   ]
  },
  {
   "cell_type": "code",
   "execution_count": null,
   "metadata": {},
   "outputs": [],
   "source": [
    "def dosi_eta(media=True, \n",
    "             start_date=\"2021-10-01\",\n",
    "             days_interval=7\n",
    "            ):\n",
    "    colors = plt.rcParams['axes.prop_cycle'].by_key()['color']\n",
    "    for dose in [\"prima\",\"seconda\",\"terza\"]:\n",
    "        plt.figure(dpi=100,figsize=(11,5))\n",
    "        col_idx = 0\n",
    "        for anag in sorted(df_vax_yyyy_mm_dd_anag[\"fascia_anagrafica\"].unique()):\n",
    "            df_plot = df_vax_yyyy_mm_dd_anag[df_vax_yyyy_mm_dd_anag.fascia_anagrafica==anag]\n",
    "            df_plot = df_plot[df_plot.data_somministrazione>=start_date]\n",
    "            x = df_plot[\"data_somministrazione\"].tolist()\n",
    "            x = [ x[i] for i in range(0,len(x)) if i % days_interval == 0]\n",
    "            if media:\n",
    "                plt.plot(df_plot[\"data_somministrazione\"], df_plot[f\"{dose}_dose\"], alpha=0.2, color=colors[col_idx])\n",
    "                plt.plot(df_plot[\"data_somministrazione\"], df_plot[f\"{dose}_dose_media_7\"], label=anag, color=colors[col_idx], linewidth=2.0)\n",
    "            else:\n",
    "                plt.plot(df_plot[\"data_somministrazione\"], df_plot[f\"{dose}_dose\"], alpha=1, label=anag, color=colors[col_idx])\n",
    "\n",
    "            col_idx +=1\n",
    "        plt.xticks(x, rotation=60, \n",
    "                   rotation_mode=\"anchor\", \n",
    "                   verticalalignment = \"top\", \n",
    "                   horizontalalignment = \"right\",\n",
    "                   fontsize=12\n",
    "                  )\n",
    "        plt.yticks(fontsize=12)\n",
    "        #plt.yscale(\"log\")\n",
    "        plt.legend()\n",
    "        if dose == \"prima\":\n",
    "            title = \"Prime dosi\"\n",
    "        elif dose == \"seconda\":\n",
    "            title = \"Seconde dosi\"\n",
    "        else:\n",
    "            title = \"Terze dosi\"\n",
    "        plt.title(f\"{title} somministrate per fascia d'età\",fontsize=16)\n",
    "        savename=f\"{plots_folder}/{dose}_dose_fascia_eta\"\n",
    "        if media:\n",
    "            savename += \"_media\"\n",
    "        plt.savefig(fname=f\"{savename}.png\",bbox_inches=\"tight\")"
   ]
  },
  {
   "cell_type": "code",
   "execution_count": null,
   "metadata": {},
   "outputs": [],
   "source": [
    "dosi_eta(media=True, start_date=\"2021-10-01\", days_interval=14)"
   ]
  },
  {
   "cell_type": "code",
   "execution_count": null,
   "metadata": {},
   "outputs": [],
   "source": [
    "grid = get_grid(keys=[\"data_somministrazione\", \"fascia_anagrafica\",\"fornitore\"])"
   ]
  },
  {
   "cell_type": "code",
   "execution_count": null,
   "metadata": {},
   "outputs": [],
   "source": [
    "df_vax_yyyy_mm_dd_anag_fornitore = grid.merge(df_vax_yyyy_mm_dd_anag_fornitore, on=[\"data_somministrazione\", \"fascia_anagrafica\",\"fornitore\"],how=\"left\")\n",
    "df_vax_yyyy_mm_dd_anag_fornitore = df_vax_yyyy_mm_dd_anag_fornitore.fillna(0)"
   ]
  },
  {
   "cell_type": "code",
   "execution_count": null,
   "metadata": {},
   "outputs": [],
   "source": [
    "df_vax_yyyy_mm_dd_anag_fornitore[df_vax_yyyy_mm_dd_anag_fornitore.fascia_anagrafica==\"05-11\"]"
   ]
  },
  {
   "cell_type": "code",
   "execution_count": null,
   "metadata": {},
   "outputs": [],
   "source": [
    "def plot_anag_fornitore(start_date, media=False):\n",
    "    for dose in [\"prima\",\"seconda\",\"terza\"]:\n",
    "        for fornitore in fornitori:\n",
    "            plt.figure(dpi=100, figsize=(10,4))\n",
    "            max_val_0 = 0\n",
    "            col_idx = 0\n",
    "            for anag in anagrafiche:\n",
    "                condizione = (df_vax_yyyy_mm_dd_anag_fornitore.fornitore == fornitore) & (df_vax_yyyy_mm_dd_anag_fornitore.fascia_anagrafica==anag)\n",
    "                df_plot = df_vax_yyyy_mm_dd_anag_fornitore[condizione]\n",
    "                df_plot = df_plot[df_plot.data_somministrazione>=start_date]\n",
    "                Xval = df_plot[\"data_somministrazione\"]\n",
    "                Yval = df_plot[f\"{dose}_dose\"]\n",
    "                Yval_media7 = df_plot[f\"{dose}_dose_media_7\"]\n",
    "                if media:\n",
    "                    plt.plot(Xval, Yval, linewidth=1.8, alpha=0.15, color=colors[col_idx])\n",
    "                    plt.plot(Xval, Yval_media7, label=anag, linewidth=2.0, color=colors[col_idx])\n",
    "                else:\n",
    "                    plt.plot(Xval, Yval, linewidth=1.8, alpha=1, color=colors[col_idx],label=anag)\n",
    "                max_val = np.max(Yval)\n",
    "                col_idx += 1\n",
    "                if max_val > max_val_0:\n",
    "                    max_val_0 = max_val\n",
    "            x = df_plot[\"data_somministrazione\"].tolist()\n",
    "            x = [ x[i] for i in range(0,len(x)) if i % 7 == 0]\n",
    "            plt.xticks(x, rotation=60, \n",
    "                       rotation_mode=\"anchor\", \n",
    "                       verticalalignment = \"top\", \n",
    "                       horizontalalignment = \"right\",\n",
    "                       fontsize=12\n",
    "                      )\n",
    "            plt.yticks(fontsize=12)\n",
    "            plt.grid()\n",
    "            plt.legend()\n",
    "            if dose == \"prima\":\n",
    "                title = \"Prime dosi\"\n",
    "            elif dose == \"seconda\":\n",
    "                title = \"Seconde dosi\"\n",
    "            else:\n",
    "                title = \"Terze dosi\"\n",
    "            title = f\"{title} somministrate per fascia d'età\"\n",
    "            if media:\n",
    "                title += \", media 7 giorni, \"\n",
    "            title += f\" {fornitore}\"\n",
    "            savename = f\"{plots_folder}/{dose}_dose_{fornitore.replace('/','_')}_eta\"\n",
    "            if media:\n",
    "                savename += \"_media7\"\n",
    "            savename += \".png\"\n",
    "            plt.title(title, fontsize=16)\n",
    "            plt.savefig(fname=savename,bbox_inches=\"tight\")"
   ]
  },
  {
   "cell_type": "code",
   "execution_count": null,
   "metadata": {},
   "outputs": [],
   "source": [
    "plot_anag_fornitore(start_date=\"2021-10-01\", media=True)"
   ]
  },
  {
   "cell_type": "code",
   "execution_count": null,
   "metadata": {},
   "outputs": [],
   "source": [
    "popolazione = pd.read_csv(\"https://raw.githubusercontent.com/italia/covid19-opendata-vaccini/master/dati/platea.csv\")\n",
    "popolazione = popolazione.groupby(\"fascia_anagrafica\").sum().reset_index()"
   ]
  },
  {
   "cell_type": "code",
   "execution_count": null,
   "metadata": {},
   "outputs": [],
   "source": [
    "np.sum(popolazione[\"totale_popolazione\"])"
   ]
  },
  {
   "cell_type": "code",
   "execution_count": null,
   "metadata": {},
   "outputs": [],
   "source": [
    "pop_over_50 = popolazione[popolazione.fascia_anagrafica.isin([\"50-59\",\"60-69\",\"70-79\",\"80+\"])]\n",
    "display(pop_over_50)\n",
    "np.sum(pop_over_50[\"totale_popolazione\"])"
   ]
  },
  {
   "cell_type": "code",
   "execution_count": null,
   "metadata": {},
   "outputs": [],
   "source": [
    "prime_dosi_over_50 = df_vax_yyyy_mm_dd_anag[df_vax_yyyy_mm_dd_anag.fascia_anagrafica.isin([\"50-59\",\"60-69\",\"70-79\",\"80-89\",\"90+\"])][[\"data_somministrazione\",\"fascia_anagrafica\",\"prima_dose\"]]\n",
    "np.sum(prime_dosi_over_50[\"prima_dose\"])"
   ]
  },
  {
   "cell_type": "code",
   "execution_count": null,
   "metadata": {},
   "outputs": [],
   "source": [
    "df_vax_yyyy_mm_dd_fornitore[df_vax_yyyy_mm_dd_fornitore.fornitore==\"Janssen\"]"
   ]
  },
  {
   "cell_type": "code",
   "execution_count": null,
   "metadata": {},
   "outputs": [],
   "source": []
  },
  {
   "cell_type": "code",
   "execution_count": null,
   "metadata": {},
   "outputs": [],
   "source": [
    "display(df_vax_yyyy_mm_dd[df_vax_yyyy_mm_dd.data_somministrazione==\"2021-08-05\"][[\"data_somministrazione\",\"totale_seconda_dose\",\"totale_pregressa_infezione\"]])\n",
    "display(df_vax_yyyy_mm_dd_fornitore[(df_vax_yyyy_mm_dd_fornitore.data_somministrazione==\"2021-08-05\") & (df_vax_yyyy_mm_dd_fornitore.fornitore==\"Janssen\")][[\"data_somministrazione\",\"fornitore\",\"totale_prima_dose\"]])\n",
    "display(df_vax_yyyy_mm_dd[df_vax_yyyy_mm_dd.data_somministrazione==\"2021-08-05\"][[\"data_somministrazione\",\"totale_seconda_dose\"]])"
   ]
  },
  {
   "cell_type": "code",
   "execution_count": null,
   "metadata": {},
   "outputs": [],
   "source": [
    "from datetime import datetime, timedelta\n",
    "datetime.strftime(datetime.strptime(\"2022-02-01\",\"%Y-%m-%d\") - timedelta(180),\"%Y-%m-%d\")"
   ]
  },
  {
   "cell_type": "code",
   "execution_count": null,
   "metadata": {},
   "outputs": [],
   "source": [
    "1061638+1381975+31700161"
   ]
  },
  {
   "cell_type": "code",
   "execution_count": null,
   "metadata": {},
   "outputs": [],
   "source": [
    "df_vax_yyyy_mm_dd[[\"data_somministrazione\",\"totale_terza_dose\"]].tail(10)"
   ]
  },
  {
   "cell_type": "code",
   "execution_count": null,
   "metadata": {},
   "outputs": [],
   "source": [
    "34143774 - 32910171"
   ]
  },
  {
   "cell_type": "code",
   "execution_count": null,
   "metadata": {},
   "outputs": [],
   "source": [
    "df_vax_yyyy_mm_dd[\"booster_eligibility\"] = df_vax_yyyy_mm_dd[\"data_somministrazione\"].apply(lambda x: datetime.strptime(x,\"%Y-%m-%d\") + timedelta(120)) "
   ]
  },
  {
   "cell_type": "code",
   "execution_count": null,
   "metadata": {},
   "outputs": [],
   "source": []
  }
 ],
 "metadata": {
  "kernelspec": {
   "display_name": "Python 3 (ipykernel)",
   "language": "python",
   "name": "python3"
  },
  "language_info": {
   "codemirror_mode": {
    "name": "ipython",
    "version": 3
   },
   "file_extension": ".py",
   "mimetype": "text/x-python",
   "name": "python",
   "nbconvert_exporter": "python",
   "pygments_lexer": "ipython3",
   "version": "3.8.10"
  }
 },
 "nbformat": 4,
 "nbformat_minor": 2
}
