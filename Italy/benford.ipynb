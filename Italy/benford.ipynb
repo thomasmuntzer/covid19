{
 "cells": [
  {
   "cell_type": "code",
   "execution_count": 12,
   "metadata": {},
   "outputs": [
    {
     "data": {
      "text/plain": [
       "0"
      ]
     },
     "execution_count": 12,
     "metadata": {},
     "output_type": "execute_result"
    }
   ],
   "source": [
    "from datetime import datetime\n",
    "import pandas as pd\n",
    "import numpy as np\n",
    "import os\n",
    "pd.set_option('display.max_rows', 1000)\n",
    "import matplotlib.pyplot as plt\n",
    "\n",
    "today = str(datetime.now().date())\n",
    "plots_folder = f\"./plots/{today}/iss\"\n",
    "os.system(f\"mkdir -p {plots_folder}\")"
   ]
  },
  {
   "cell_type": "code",
   "execution_count": null,
   "metadata": {},
   "outputs": [],
   "source": [
    "from benfordslaw import benfordslaw\n",
    "\n",
    "def bflaw_test(df: pd.DataFrame,\n",
    "               cat_name: str = \"all\",\n",
    "               alpha: float = 0.05,\n",
    "               pos: int = 1,\n",
    "              ):\n",
    "\n",
    "    bl = benfordslaw(alpha=alpha,\n",
    "                 pos=pos,\n",
    "                 verbose=0,\n",
    "                 method=\"chi2\")\n",
    "\n",
    "    categories = [\"no_vax\", \"1_dose\", \"2_dosi_lt_cut\", \"2_dosi_gt_cut\", \"booster\"]\n",
    "    \n",
    "    X = []\n",
    "    for c in categories:\n",
    "        if cat_name != \"all\" and c != cat_name:\n",
    "            continue\n",
    "        v = df[df.fascia_eta != \"totale\"][c].tolist()\n",
    "        X += v\n",
    "    \n",
    "    X = np.array(X)\n",
    "    \n",
    "    # We do this because we are dealing with counts (only integers)\n",
    "    if pos == 2:\n",
    "        X = X[X > 9]\n",
    "        \n",
    "    \n",
    "    print(f\"Length X: {len(X)}\")\n",
    "\n",
    "    results = bl.fit(X)\n",
    "    digits = np.array(results[\"percentage_emp\"][:,0])\n",
    "    obs = np.array(results[\"percentage_emp\"][:,1])\n",
    "    exp = np.array(bl.leading_digits)\n",
    "    chi2 = np.round(results[\"t\"],2)\n",
    "    \n",
    "    plt.figure(figsize=(10,5),dpi=90)\n",
    "    plt.bar(digits, obs, width=0.5, label=\"Observed\")\n",
    "    plt.plot(digits, exp, \"-o\", color=\"r\", markersize=9, label=\"Expected Benford\")\n",
    "    plt.xticks(digits)\n",
    "    plt.grid()\n",
    "    p_value = np.round(results[\"P\"],2)\n",
    "    \n",
    "    if p_value <= bl.alpha:\n",
    "        anomaly_str = \" Anomaly detected!\"\n",
    "    else:\n",
    "        anomaly_str = \"\"\n",
    "        \n",
    "    title = f\"Benford's law test ISS data,\"\n",
    "    if cat_name != \"all\":\n",
    "        title += f\" ({cat_name})\"\n",
    "    title += f\" position={pos}, chi2={chi2}, P={p_value} {anomaly_str}\"\n",
    "    title = title.replace(\"_\",\" \").replace('gt','>').replace('lt', '<')\n",
    "    plt.title(title, fontsize=16)\n",
    "    plt.yticks(fontsize=12)\n",
    "    plt.xticks(fontsize=12)\n",
    "    plt.legend(fontsize=12)\n",
    "    plt.ylabel(\"Observed frequency [%]\", fontsize=14)\n",
    "    plt.savefig(f\"{plots_folder}/bflawtest_pos{pos}_{cat_name}.png\", bbox_inches=\"tight\")\n",
    "    return X"
   ]
  },
  {
   "cell_type": "markdown",
   "metadata": {},
   "source": [
    "### Get data"
   ]
  },
  {
   "cell_type": "code",
   "execution_count": null,
   "metadata": {},
   "outputs": [],
   "source": [
    "df_ti = pd.read_csv(\"./data/rapporti_ISS - TI.csv\")\n",
    "df_decessi = pd.read_csv(\"./data/rapporti_ISS - Decessi.csv\")\n",
    "df_ricoveri = pd.read_csv(\"./data/rapporti_ISS - Ricoveri.csv\")\n",
    "df_contagi = pd.read_csv(\"./data/rapporti_ISS - Contagi.csv\")"
   ]
  },
  {
   "cell_type": "code",
   "execution_count": null,
   "metadata": {},
   "outputs": [],
   "source": [
    "df_dict = {\n",
    "    \"contagi\": df_contagi,\n",
    "    \"ricoveri\": df_ricoveri,\n",
    "    \"terapie_intensive\": df_ti, \n",
    "    \"decessi\": df_decessi\n",
    "}\n",
    "\n",
    "for d in df_dict.items():\n",
    "    d[1][\"split\"] = d[0]"
   ]
  },
  {
   "cell_type": "markdown",
   "metadata": {},
   "source": [
    "### Create single dataframe"
   ]
  },
  {
   "cell_type": "code",
   "execution_count": null,
   "metadata": {},
   "outputs": [],
   "source": [
    "df_iss = pd.concat(df_dict.values()).reset_index(drop=True)"
   ]
  },
  {
   "cell_type": "code",
   "execution_count": null,
   "metadata": {},
   "outputs": [],
   "source": [
    "_ = bflaw_test(df_iss, pos=1)"
   ]
  },
  {
   "cell_type": "code",
   "execution_count": null,
   "metadata": {},
   "outputs": [],
   "source": [
    "_ = bflaw_test(df_iss, pos=2)"
   ]
  },
  {
   "cell_type": "code",
   "execution_count": null,
   "metadata": {},
   "outputs": [],
   "source": []
  }
 ],
 "metadata": {
  "kernelspec": {
   "display_name": "Python 3",
   "language": "python",
   "name": "python3"
  },
  "language_info": {
   "codemirror_mode": {
    "name": "ipython",
    "version": 3
   },
   "file_extension": ".py",
   "mimetype": "text/x-python",
   "name": "python",
   "nbconvert_exporter": "python",
   "pygments_lexer": "ipython3",
   "version": "3.7.4"
  }
 },
 "nbformat": 4,
 "nbformat_minor": 2
}
